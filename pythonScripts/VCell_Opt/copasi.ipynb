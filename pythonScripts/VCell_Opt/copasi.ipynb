{
 "cells": [
  {
   "cell_type": "code",
   "execution_count": 1,
   "metadata": {
    "collapsed": true
   },
   "outputs": [],
   "source": [
    "import COPASI"
   ]
  },
  {
   "cell_type": "code",
   "execution_count": 4,
   "metadata": {
    "collapsed": false
   },
   "outputs": [],
   "source": [
    "COPASI.CCopasiRootContainer.init()"
   ]
  },
  {
   "cell_type": "code",
   "execution_count": 6,
   "metadata": {
    "collapsed": false
   },
   "outputs": [
    {
     "data": {
      "text/plain": [
       "<CCopasiDataModel>"
      ]
     },
     "execution_count": 6,
     "metadata": {},
     "output_type": "execute_result"
    }
   ],
   "source": [
    "dataModel = COPASI.CCopasiRootContainer.addDatamodel()\n"
   ]
  },
  {
   "cell_type": "code",
   "execution_count": null,
   "metadata": {
    "collapsed": true
   },
   "outputs": [],
   "source": [
    "dataModel.importSBML(sbmlFile)\n",
    "\n",
    "# fitTask = dataModel.getTaskList()[\"Parameter Estimation\"]\n",
    "fitTask = COPASI.self.datamodel.addTask(COPASI.CCopasiTask.parameterFitting)\n",
    "assert(fitTask!=None)\n",
    "assert(fitTask.__class__==COPASI.CFitTask)\n",
    "\n",
    "fitMethod = fitTask.getMethod()\n",
    "assert(isinstance(fitMethod,COPASI.COptMethod))\n",
    "\n",
    "fitProblem = fitTask.getProblem()\n",
    "assert(fitProblem!=None)\n",
    "assert(fitProblem.__class__==COPASI.CFitProblem)\n",
    "\n",
    "experimentSet = fitProblem.getParameter(\"Experiment Set\")\n",
    "assert(experimentSet!=None)\n",
    "assert(experimentSet.__class__ == COPASI.CExperimentSet)\n",
    "assert(experimentSet.getExperimentCount() == 0)\n"
   ]
  }
 ],
 "metadata": {
  "kernelspec": {
   "display_name": "Python 2",
   "language": "python",
   "name": "python2"
  },
  "language_info": {
   "codemirror_mode": {
    "name": "ipython",
    "version": 2
   },
   "file_extension": ".py",
   "mimetype": "text/x-python",
   "name": "python",
   "nbconvert_exporter": "python",
   "pygments_lexer": "ipython2",
   "version": "2.7.12"
  }
 },
 "nbformat": 4,
 "nbformat_minor": 2
}
